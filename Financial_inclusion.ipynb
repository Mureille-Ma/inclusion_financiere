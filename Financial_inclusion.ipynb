{
 "cells": [
  {
   "cell_type": "markdown",
   "id": "e1d604f0",
   "metadata": {},
   "source": [
    "#  IMPORTATION DES LIBRAIRIES"
   ]
  },
  {
   "cell_type": "code",
   "execution_count": 2,
   "id": "385216ba",
   "metadata": {},
   "outputs": [
    {
     "name": "stderr",
     "output_type": "stream",
     "text": [
      "C:\\Users\\LENOVO\\anaconda3\\lib\\site-packages\\scipy\\__init__.py:146: UserWarning: A NumPy version >=1.16.5 and <1.23.0 is required for this version of SciPy (detected version 1.26.3\n",
      "  warnings.warn(f\"A NumPy version >={np_minversion} and <{np_maxversion}\"\n"
     ]
    }
   ],
   "source": [
    "# dataframe and plotting\n",
    "import pandas as pd\n",
    "import numpy as np\n",
    "import seaborn as sns\n",
    "import matplotlib.pyplot as plt\n",
    "\n",
    "# machine learning\n",
    "#from lightgbm import LGBMClassifier\n",
    "from sklearn.model_selection import train_test_split\n",
    "from sklearn.metrics import accuracy_score\n",
    "\n",
    "#from google.colab import files\n",
    "import warnings\n",
    "warnings.filterwarnings('ignore')"
   ]
  },
  {
   "cell_type": "markdown",
   "id": "cd378500",
   "metadata": {},
   "source": [
    "#  1-LOAD THE DATASET"
   ]
  },
  {
   "cell_type": "code",
   "execution_count": 3,
   "id": "85d1f8d2",
   "metadata": {},
   "outputs": [],
   "source": [
    "# Load files into a pandas dataframe\n",
    "train = pd.read_csv('Train.csv')\n",
    "test = pd.read_csv('Test.csv')\n",
    "variables = pd.read_csv('VariableDefinitions.csv')"
   ]
  },
  {
   "cell_type": "code",
   "execution_count": 4,
   "id": "34d01da2",
   "metadata": {},
   "outputs": [
    {
     "name": "stdout",
     "output_type": "stream",
     "text": [
      "train data shape : (23524, 13)\n",
      "test data shape : (10086, 12)\n"
     ]
    }
   ],
   "source": [
    "# Let’s observe the shape of our datasets.\n",
    "print('train data shape :', train.shape)\n",
    "print('test data shape :', test.shape)"
   ]
  },
  {
   "cell_type": "markdown",
   "id": "0ea979a7",
   "metadata": {},
   "source": [
    "###  Nous avons ici le nombre de ligne et de colonne de notre dataset de train et de test . Nous avons pour le train 13 variables soit 12 independantes et une dependantes. Pour le test nous avons 12 variables independantes"
   ]
  },
  {
   "cell_type": "code",
   "execution_count": 5,
   "id": "ccdfdfb7",
   "metadata": {},
   "outputs": [
    {
     "data": {
      "text/html": [
       "<div>\n",
       "<style scoped>\n",
       "    .dataframe tbody tr th:only-of-type {\n",
       "        vertical-align: middle;\n",
       "    }\n",
       "\n",
       "    .dataframe tbody tr th {\n",
       "        vertical-align: top;\n",
       "    }\n",
       "\n",
       "    .dataframe thead th {\n",
       "        text-align: right;\n",
       "    }\n",
       "</style>\n",
       "<table border=\"1\" class=\"dataframe\">\n",
       "  <thead>\n",
       "    <tr style=\"text-align: right;\">\n",
       "      <th></th>\n",
       "      <th>country</th>\n",
       "      <th>year</th>\n",
       "      <th>uniqueid</th>\n",
       "      <th>bank_account</th>\n",
       "      <th>location_type</th>\n",
       "      <th>cellphone_access</th>\n",
       "      <th>household_size</th>\n",
       "      <th>age_of_respondent</th>\n",
       "      <th>gender_of_respondent</th>\n",
       "      <th>relationship_with_head</th>\n",
       "      <th>marital_status</th>\n",
       "      <th>education_level</th>\n",
       "      <th>job_type</th>\n",
       "    </tr>\n",
       "  </thead>\n",
       "  <tbody>\n",
       "    <tr>\n",
       "      <th>0</th>\n",
       "      <td>Kenya</td>\n",
       "      <td>2018</td>\n",
       "      <td>uniqueid_1</td>\n",
       "      <td>Yes</td>\n",
       "      <td>Rural</td>\n",
       "      <td>Yes</td>\n",
       "      <td>3</td>\n",
       "      <td>24</td>\n",
       "      <td>Female</td>\n",
       "      <td>Spouse</td>\n",
       "      <td>Married/Living together</td>\n",
       "      <td>Secondary education</td>\n",
       "      <td>Self employed</td>\n",
       "    </tr>\n",
       "    <tr>\n",
       "      <th>1</th>\n",
       "      <td>Kenya</td>\n",
       "      <td>2018</td>\n",
       "      <td>uniqueid_2</td>\n",
       "      <td>No</td>\n",
       "      <td>Rural</td>\n",
       "      <td>No</td>\n",
       "      <td>5</td>\n",
       "      <td>70</td>\n",
       "      <td>Female</td>\n",
       "      <td>Head of Household</td>\n",
       "      <td>Widowed</td>\n",
       "      <td>No formal education</td>\n",
       "      <td>Government Dependent</td>\n",
       "    </tr>\n",
       "    <tr>\n",
       "      <th>2</th>\n",
       "      <td>Kenya</td>\n",
       "      <td>2018</td>\n",
       "      <td>uniqueid_3</td>\n",
       "      <td>Yes</td>\n",
       "      <td>Urban</td>\n",
       "      <td>Yes</td>\n",
       "      <td>5</td>\n",
       "      <td>26</td>\n",
       "      <td>Male</td>\n",
       "      <td>Other relative</td>\n",
       "      <td>Single/Never Married</td>\n",
       "      <td>Vocational/Specialised training</td>\n",
       "      <td>Self employed</td>\n",
       "    </tr>\n",
       "    <tr>\n",
       "      <th>3</th>\n",
       "      <td>Kenya</td>\n",
       "      <td>2018</td>\n",
       "      <td>uniqueid_4</td>\n",
       "      <td>No</td>\n",
       "      <td>Rural</td>\n",
       "      <td>Yes</td>\n",
       "      <td>5</td>\n",
       "      <td>34</td>\n",
       "      <td>Female</td>\n",
       "      <td>Head of Household</td>\n",
       "      <td>Married/Living together</td>\n",
       "      <td>Primary education</td>\n",
       "      <td>Formally employed Private</td>\n",
       "    </tr>\n",
       "    <tr>\n",
       "      <th>4</th>\n",
       "      <td>Kenya</td>\n",
       "      <td>2018</td>\n",
       "      <td>uniqueid_5</td>\n",
       "      <td>No</td>\n",
       "      <td>Urban</td>\n",
       "      <td>No</td>\n",
       "      <td>8</td>\n",
       "      <td>26</td>\n",
       "      <td>Male</td>\n",
       "      <td>Child</td>\n",
       "      <td>Single/Never Married</td>\n",
       "      <td>Primary education</td>\n",
       "      <td>Informally employed</td>\n",
       "    </tr>\n",
       "  </tbody>\n",
       "</table>\n",
       "</div>"
      ],
      "text/plain": [
       "  country  year    uniqueid bank_account location_type cellphone_access  \\\n",
       "0   Kenya  2018  uniqueid_1          Yes         Rural              Yes   \n",
       "1   Kenya  2018  uniqueid_2           No         Rural               No   \n",
       "2   Kenya  2018  uniqueid_3          Yes         Urban              Yes   \n",
       "3   Kenya  2018  uniqueid_4           No         Rural              Yes   \n",
       "4   Kenya  2018  uniqueid_5           No         Urban               No   \n",
       "\n",
       "   household_size  age_of_respondent gender_of_respondent  \\\n",
       "0               3                 24               Female   \n",
       "1               5                 70               Female   \n",
       "2               5                 26                 Male   \n",
       "3               5                 34               Female   \n",
       "4               8                 26                 Male   \n",
       "\n",
       "  relationship_with_head           marital_status  \\\n",
       "0                 Spouse  Married/Living together   \n",
       "1      Head of Household                  Widowed   \n",
       "2         Other relative     Single/Never Married   \n",
       "3      Head of Household  Married/Living together   \n",
       "4                  Child     Single/Never Married   \n",
       "\n",
       "                   education_level                   job_type  \n",
       "0              Secondary education              Self employed  \n",
       "1              No formal education       Government Dependent  \n",
       "2  Vocational/Specialised training              Self employed  \n",
       "3                Primary education  Formally employed Private  \n",
       "4                Primary education        Informally employed  "
      ]
     },
     "execution_count": 5,
     "metadata": {},
     "output_type": "execute_result"
    }
   ],
   "source": [
    "# inspect train data\n",
    "train.head()"
   ]
  },
  {
   "cell_type": "code",
   "execution_count": 7,
   "id": "a19bba66",
   "metadata": {},
   "outputs": [
    {
     "data": {
      "text/html": [
       "<div>\n",
       "<style scoped>\n",
       "    .dataframe tbody tr th:only-of-type {\n",
       "        vertical-align: middle;\n",
       "    }\n",
       "\n",
       "    .dataframe tbody tr th {\n",
       "        vertical-align: top;\n",
       "    }\n",
       "\n",
       "    .dataframe thead th {\n",
       "        text-align: right;\n",
       "    }\n",
       "</style>\n",
       "<table border=\"1\" class=\"dataframe\">\n",
       "  <thead>\n",
       "    <tr style=\"text-align: right;\">\n",
       "      <th></th>\n",
       "      <th>country</th>\n",
       "      <th>year</th>\n",
       "      <th>uniqueid</th>\n",
       "      <th>location_type</th>\n",
       "      <th>cellphone_access</th>\n",
       "      <th>household_size</th>\n",
       "      <th>age_of_respondent</th>\n",
       "      <th>gender_of_respondent</th>\n",
       "      <th>relationship_with_head</th>\n",
       "      <th>marital_status</th>\n",
       "      <th>education_level</th>\n",
       "      <th>job_type</th>\n",
       "    </tr>\n",
       "  </thead>\n",
       "  <tbody>\n",
       "    <tr>\n",
       "      <th>0</th>\n",
       "      <td>Kenya</td>\n",
       "      <td>2018</td>\n",
       "      <td>uniqueid_6056</td>\n",
       "      <td>Urban</td>\n",
       "      <td>Yes</td>\n",
       "      <td>3</td>\n",
       "      <td>30</td>\n",
       "      <td>Male</td>\n",
       "      <td>Head of Household</td>\n",
       "      <td>Married/Living together</td>\n",
       "      <td>Secondary education</td>\n",
       "      <td>Formally employed Government</td>\n",
       "    </tr>\n",
       "    <tr>\n",
       "      <th>1</th>\n",
       "      <td>Kenya</td>\n",
       "      <td>2018</td>\n",
       "      <td>uniqueid_6060</td>\n",
       "      <td>Urban</td>\n",
       "      <td>Yes</td>\n",
       "      <td>7</td>\n",
       "      <td>51</td>\n",
       "      <td>Male</td>\n",
       "      <td>Head of Household</td>\n",
       "      <td>Married/Living together</td>\n",
       "      <td>Vocational/Specialised training</td>\n",
       "      <td>Formally employed Private</td>\n",
       "    </tr>\n",
       "    <tr>\n",
       "      <th>2</th>\n",
       "      <td>Kenya</td>\n",
       "      <td>2018</td>\n",
       "      <td>uniqueid_6065</td>\n",
       "      <td>Rural</td>\n",
       "      <td>No</td>\n",
       "      <td>3</td>\n",
       "      <td>77</td>\n",
       "      <td>Female</td>\n",
       "      <td>Parent</td>\n",
       "      <td>Married/Living together</td>\n",
       "      <td>No formal education</td>\n",
       "      <td>Remittance Dependent</td>\n",
       "    </tr>\n",
       "    <tr>\n",
       "      <th>3</th>\n",
       "      <td>Kenya</td>\n",
       "      <td>2018</td>\n",
       "      <td>uniqueid_6072</td>\n",
       "      <td>Rural</td>\n",
       "      <td>No</td>\n",
       "      <td>6</td>\n",
       "      <td>39</td>\n",
       "      <td>Female</td>\n",
       "      <td>Head of Household</td>\n",
       "      <td>Married/Living together</td>\n",
       "      <td>Primary education</td>\n",
       "      <td>Remittance Dependent</td>\n",
       "    </tr>\n",
       "    <tr>\n",
       "      <th>4</th>\n",
       "      <td>Kenya</td>\n",
       "      <td>2018</td>\n",
       "      <td>uniqueid_6073</td>\n",
       "      <td>Urban</td>\n",
       "      <td>No</td>\n",
       "      <td>3</td>\n",
       "      <td>16</td>\n",
       "      <td>Male</td>\n",
       "      <td>Child</td>\n",
       "      <td>Single/Never Married</td>\n",
       "      <td>Secondary education</td>\n",
       "      <td>Remittance Dependent</td>\n",
       "    </tr>\n",
       "  </tbody>\n",
       "</table>\n",
       "</div>"
      ],
      "text/plain": [
       "  country  year       uniqueid location_type cellphone_access  household_size  \\\n",
       "0   Kenya  2018  uniqueid_6056         Urban              Yes               3   \n",
       "1   Kenya  2018  uniqueid_6060         Urban              Yes               7   \n",
       "2   Kenya  2018  uniqueid_6065         Rural               No               3   \n",
       "3   Kenya  2018  uniqueid_6072         Rural               No               6   \n",
       "4   Kenya  2018  uniqueid_6073         Urban               No               3   \n",
       "\n",
       "   age_of_respondent gender_of_respondent relationship_with_head  \\\n",
       "0                 30                 Male      Head of Household   \n",
       "1                 51                 Male      Head of Household   \n",
       "2                 77               Female                 Parent   \n",
       "3                 39               Female      Head of Household   \n",
       "4                 16                 Male                  Child   \n",
       "\n",
       "            marital_status                  education_level  \\\n",
       "0  Married/Living together              Secondary education   \n",
       "1  Married/Living together  Vocational/Specialised training   \n",
       "2  Married/Living together              No formal education   \n",
       "3  Married/Living together                Primary education   \n",
       "4     Single/Never Married              Secondary education   \n",
       "\n",
       "                       job_type  \n",
       "0  Formally employed Government  \n",
       "1     Formally employed Private  \n",
       "2          Remittance Dependent  \n",
       "3          Remittance Dependent  \n",
       "4          Remittance Dependent  "
      ]
     },
     "execution_count": 7,
     "metadata": {},
     "output_type": "execute_result"
    }
   ],
   "source": [
    "test.head()"
   ]
  },
  {
   "cell_type": "markdown",
   "id": "04f39d33",
   "metadata": {},
   "source": [
    "#  INFORMATION SUR LE JEU DE DONNEES"
   ]
  },
  {
   "cell_type": "code",
   "execution_count": 9,
   "id": "ffc1561a",
   "metadata": {},
   "outputs": [
    {
     "data": {
      "text/plain": [
       "country                   0\n",
       "year                      0\n",
       "uniqueid                  0\n",
       "bank_account              0\n",
       "location_type             0\n",
       "cellphone_access          0\n",
       "household_size            0\n",
       "age_of_respondent         0\n",
       "gender_of_respondent      0\n",
       "relationship_with_head    0\n",
       "marital_status            0\n",
       "education_level           0\n",
       "job_type                  0\n",
       "dtype: int64"
      ]
     },
     "execution_count": 9,
     "metadata": {},
     "output_type": "execute_result"
    }
   ],
   "source": [
    "#check the missing value\n",
    "train.isna().sum()"
   ]
  },
  {
   "cell_type": "markdown",
   "id": "fa019c60",
   "metadata": {},
   "source": [
    "###  On remarque que notre jeu de donnees ne presente aucunes valeurs manquantes"
   ]
  },
  {
   "cell_type": "code",
   "execution_count": 10,
   "id": "75a4baa6",
   "metadata": {},
   "outputs": [
    {
     "name": "stdout",
     "output_type": "stream",
     "text": [
      "<class 'pandas.core.frame.DataFrame'>\n",
      "RangeIndex: 23524 entries, 0 to 23523\n",
      "Data columns (total 13 columns):\n",
      " #   Column                  Non-Null Count  Dtype \n",
      "---  ------                  --------------  ----- \n",
      " 0   country                 23524 non-null  object\n",
      " 1   year                    23524 non-null  int64 \n",
      " 2   uniqueid                23524 non-null  object\n",
      " 3   bank_account            23524 non-null  object\n",
      " 4   location_type           23524 non-null  object\n",
      " 5   cellphone_access        23524 non-null  object\n",
      " 6   household_size          23524 non-null  int64 \n",
      " 7   age_of_respondent       23524 non-null  int64 \n",
      " 8   gender_of_respondent    23524 non-null  object\n",
      " 9   relationship_with_head  23524 non-null  object\n",
      " 10  marital_status          23524 non-null  object\n",
      " 11  education_level         23524 non-null  object\n",
      " 12  job_type                23524 non-null  object\n",
      "dtypes: int64(3), object(10)\n",
      "memory usage: 2.3+ MB\n"
     ]
    }
   ],
   "source": [
    "#information of the dataset\n",
    "\n",
    "train.info()"
   ]
  },
  {
   "cell_type": "markdown",
   "id": "feb3dfbf",
   "metadata": {},
   "source": [
    "###  Nous avons 9 variables categoriels et 3 numeriques"
   ]
  },
  {
   "cell_type": "code",
   "execution_count": 11,
   "id": "e55840a8",
   "metadata": {},
   "outputs": [
    {
     "data": {
      "text/plain": [
       "<seaborn.axisgrid.FacetGrid at 0x1441af0e910>"
      ]
     },
     "execution_count": 11,
     "metadata": {},
     "output_type": "execute_result"
    },
    {
     "data": {
      "image/png": "[encoded data removed]",
      "text/plain": [
       "<Figure size 360x360 with 1 Axes>"
      ]
     },
     "metadata": {
      "needs_background": "light"
     },
     "output_type": "display_data"
    }
   ],
   "source": [
    "#distribution des donnees\n",
    "sns.catplot(x=\"bank_account\", kind=\"count\", data=train)"
   ]
  },
  {
   "cell_type": "markdown",
   "id": "be4cf9ef",
   "metadata": {},
   "source": [
    "###  On observe que tres peu de personne au Kenya dispose d'un compte banquaire."
   ]
  },
  {
   "cell_type": "markdown",
   "id": "a2a8ff1c",
   "metadata": {},
   "source": [
    "#  PREPARATION DES DONNEES POUR L'APPRENTISSAGE"
   ]
  },
  {
   "cell_type": "code",
   "execution_count": 12,
   "id": "418541e0",
   "metadata": {},
   "outputs": [
    {
     "name": "stdout",
     "output_type": "stream",
     "text": [
      "0        1\n",
      "1        0\n",
      "2        1\n",
      "3        0\n",
      "4        0\n",
      "        ..\n",
      "23519    0\n",
      "23520    0\n",
      "23521    0\n",
      "23522    0\n",
      "23523    0\n",
      "Name: bank_account, Length: 23524, dtype: int32\n"
     ]
    }
   ],
   "source": [
    "#import preprocessing module\n",
    "from sklearn.preprocessing import LabelEncoder\n",
    "from sklearn.preprocessing import MinMaxScaler\n",
    "\n",
    "# Cobvert target label to numerical Data\n",
    "le = LabelEncoder()\n",
    "train['bank_account'] = le.fit_transform(train['bank_account'])\n",
    "\n",
    "#Separate training features from target\n",
    "X_train = train.drop(['bank_account'], axis=1)\n",
    "y_train = train['bank_account']\n",
    "\n",
    "print(y_train)"
   ]
  },
  {
   "cell_type": "code",
   "execution_count": 13,
   "id": "495cc0ff",
   "metadata": {},
   "outputs": [],
   "source": [
    "# function to preprocess our data from train models\n",
    "def preprocessing_data(data):\n",
    "\n",
    "    # Convert the following numerical labels from interger to float\n",
    "    float_array = data[[\"household_size\", \"age_of_respondent\",\"year\"]].values.astype(float)\n",
    "    \n",
    "    # categorical features to be onverted to One Hot Encoding\n",
    "    categ = [\"relationship_with_head\",\n",
    "             \"marital_status\",\n",
    "             \"education_level\",\n",
    "             \"job_type\",\n",
    "             \"country\"]\n",
    "    \n",
    "    # One Hot Encoding conversion\n",
    "    data = pd.get_dummies(data, prefix_sep=\"_\", columns=categ)\n",
    "    \n",
    "    # Label Encoder conversion\n",
    "    data[\"location_type\"] = le.fit_transform(data[\"location_type\"])\n",
    "    data[\"cellphone_access\"] = le.fit_transform(data[\"cellphone_access\"])\n",
    "    data[\"gender_of_respondent\"] = le.fit_transform(data[\"gender_of_respondent\"])\n",
    "    \n",
    "    # drop uniquid column\n",
    "    data = data.drop([\"uniqueid\"], axis=1)\n",
    "    \n",
    "    # scale our data into range of 0 and 1\n",
    "    scaler = MinMaxScaler(feature_range=(0, 1))\n",
    "    data = scaler.fit_transform(data)\n",
    "    \n",
    "    return data                  "
   ]
  },
  {
   "cell_type": "code",
   "execution_count": 14,
   "id": "edbe0cdb",
   "metadata": {},
   "outputs": [],
   "source": [
    "# preprocess the train data \n",
    "processed_train = preprocessing_data(X_train)\n",
    "processed_test = preprocessing_data(test)"
   ]
  },
  {
   "cell_type": "code",
   "execution_count": 15,
   "id": "9010b93e",
   "metadata": {},
   "outputs": [],
   "source": [
    "import sklearn.model_selection"
   ]
  },
  {
   "cell_type": "code",
   "execution_count": 16,
   "id": "175ea800",
   "metadata": {},
   "outputs": [],
   "source": [
    "from sklearn.model_selection import train_test_split,GridSearchCV\n",
    "\n",
    "X_Train, X_Val, y_Train, y_val = train_test_split(processed_train, y_train, stratify = y_train,test_size = 0.1, random_state=21)"
   ]
  },
  {
   "cell_type": "markdown",
   "id": "5c00253a",
   "metadata": {},
   "source": [
    "## CONSTRUCTION DE L'ARBRE DE DECISION ET REGULARISATION DES PARAMETRES"
   ]
  },
  {
   "cell_type": "code",
   "execution_count": 17,
   "id": "5036feeb",
   "metadata": {},
   "outputs": [
    {
     "name": "stdout",
     "output_type": "stream",
     "text": [
      "Les predictions du modele sont:\n",
      "[0 0 0 ... 0 1 0]\n",
      "on a rencense sur un total de 2353 indivudus, 169 susceptibles d avoir un compte\n"
     ]
    }
   ],
   "source": [
    "from sklearn.tree import DecisionTreeClassifier\n",
    "\n",
    "# grille des hyperparametres\n",
    "param_grid = {'max_depth':[3,4,5,6,7],'min_samples_leaf':[1,2,3],'min_samples_split':[1,4,5,7]}\n",
    "\n",
    "# Créer le modèle d'arbre à décisions\n",
    "model = DecisionTreeClassifier()\n",
    "\n",
    "# recherche des meilleures parametres\n",
    "grid_search = GridSearchCV(model,param_grid,cv=5)\n",
    "grid_search.fit(X_Train, y_Train)\n",
    "best_params = grid_search.best_params_\n",
    "best_model = DecisionTreeClassifier(**best_params)\n",
    "\n",
    "# Entraîner le modèle sur l'ensemble d'entraînement\n",
    "best_model.fit(X_Train, y_Train)\n",
    "\n",
    "# Prédire l'état des patients sur l'ensemble de test\n",
    "Y_pred2 = best_model.predict(X_Val)\n",
    "    \n",
    "print(\"Les predictions du modele sont:\")\n",
    "print(Y_pred2)\n",
    "count = 0\n",
    "for i in range(0,len(Y_pred2)):\n",
    "    if Y_pred2[i]==1:\n",
    "        count +=1\n",
    "print(f\"on a rencense sur un total de {len(Y_pred2)} indivudus, {count} susceptibles d avoir un compte\")\n"
   ]
  },
  {
   "cell_type": "code",
   "execution_count": 18,
   "id": "7b384a1f",
   "metadata": {},
   "outputs": [
    {
     "name": "stdout",
     "output_type": "stream",
     "text": [
      "l accuracy est de: 88.87 %\n",
      "la precision est de: 70.41 %\n",
      "le rappel est de: 88.87 %\n",
      "le f1_score est de: 47.60 %\n",
      "Error rate of XGB classifier:  0.11134721631959199\n"
     ]
    },
    {
     "data": {
      "image/png": "[encoded data removed]",
      "text/plain": [
       "<Figure size 432x288 with 2 Axes>"
      ]
     },
     "metadata": {
      "needs_background": "light"
     },
     "output_type": "display_data"
    }
   ],
   "source": [
    "from sklearn.metrics import accuracy_score, precision_score,recall_score,f1_score, confusion_matrix\n",
    "accuracy = accuracy_score(y_val, Y_pred2)\n",
    "precision = precision_score(y_val, Y_pred2)\n",
    "recall = accuracy_score(y_val, Y_pred2)\n",
    "f1 = f1_score(y_val, Y_pred2)\n",
    "\n",
    "print('l accuracy est de: %.2f' % (accuracy*100)+ ' %')\n",
    "print('la precision est de: %.2f' % (precision*100)+ ' %')\n",
    "print('le rappel est de: %.2f' % (recall*100)+ ' %')\n",
    "print('le f1_score est de: %.2f' % (f1*100)+ ' %')\n",
    "print(\"Error rate of XGB classifier: \", 1 - accuracy_score(y_val,Y_pred2))\n",
    "\n",
    "#matrice de confusion\n",
    "conf_matrix = confusion_matrix(y_val,Y_pred2)\n",
    "sns.heatmap(conf_matrix,annot=True,fmt='d',cmap='Oranges')\n",
    "plt.title('Confusion Matrix')\n",
    "plt.xlabel('predicted')\n",
    "plt.ylabel('Actual')\n",
    "plt.show()"
   ]
  },
  {
   "cell_type": "markdown",
   "id": "a30f1e03",
   "metadata": {},
   "source": [
    "### PHASE DE TEST"
   ]
  },
  {
   "cell_type": "code",
   "execution_count": 20,
   "id": "f92a038b",
   "metadata": {},
   "outputs": [],
   "source": [
    "test.bank_account = best_model.predict(processed_test)"
   ]
  },
  {
   "cell_type": "code",
   "execution_count": 21,
   "id": "f5fd3d71",
   "metadata": {},
   "outputs": [
    {
     "name": "stdout",
     "output_type": "stream",
     "text": [
      "[1 1 0 ... 0 0 0]\n",
      "on a rencense sur un total de 10086 indivudus, 751 susceptibles d avoir un compte\n"
     ]
    }
   ],
   "source": [
    "print(test.bank_account)\n",
    "count = 0\n",
    "for i in range(0,len(test.bank_account)):\n",
    "    if test.bank_account[i]==1:\n",
    "        count +=1\n",
    "print(f\"on a rencense sur un total de {len(test.bank_account)} indivudus, {count} susceptibles d avoir un compte\")\n"
   ]
  },
  {
   "cell_type": "markdown",
   "id": "76040209",
   "metadata": {},
   "source": [
    "# MODELE DE REGRESSION LOGISTIQUE ET REGULARISATION DES PARAMETRES"
   ]
  },
  {
   "cell_type": "code",
   "execution_count": 23,
   "id": "20e96cf2",
   "metadata": {},
   "outputs": [
    {
     "name": "stdout",
     "output_type": "stream",
     "text": [
      "Les predictions du modele sont:\n",
      "[0 0 0 ... 0 1 0]\n",
      "on a rencense sur un total de 2353 individus, 138 susceptibles d avoir un compte\n"
     ]
    }
   ],
   "source": [
    "from sklearn.linear_model import LogisticRegression\n",
    "\n",
    "#definition des hyperparametres a ajuster\n",
    "param_grid = {'C':[0.0001,0.001,0.01,0.02,0.1,0.2,1],'penalty':['l1','l2']} #pour la regularisation\n",
    "    \n",
    "# Créer le modèle de régression logistique\n",
    "model = LogisticRegression()\n",
    "    \n",
    "# recherche des meilleures parametres\n",
    "grid_search = GridSearchCV(model,param_grid,cv=5)\n",
    "grid_search.fit(X_Train, y_Train)\n",
    "best_params = grid_search.best_params_\n",
    "best_model1 = LogisticRegression(**best_params)\n",
    "    \n",
    "# Entraîner le modèle sur l'ensemble d'entraînement\n",
    "best_model1.fit(X_Train, y_Train)\n",
    "\n",
    "# Prédire l'état des patients sur l'ensemble de test\n",
    "Y_pred1 = best_model1.predict(X_Val)\n",
    "\n",
    "print(\"Les predictions du modele sont:\")\n",
    "print(Y_pred1)\n",
    "count = 0\n",
    "for i in range(0,len(Y_pred1)):\n",
    "    if Y_pred1[i]==1:\n",
    "        count +=1\n",
    "print(f\"on a rencense sur un total de {len(Y_pred1)} individus, {count} susceptibles d avoir un compte\")"
   ]
  },
  {
   "cell_type": "code",
   "execution_count": 24,
   "id": "2a0f6027",
   "metadata": {},
   "outputs": [
    {
     "name": "stdout",
     "output_type": "stream",
     "text": [
      "l accuracy est de: 88.74 %\n",
      "la precision est de: 73.91 %\n",
      "le rappel est de: 88.74 %\n",
      "le f1_score est de: 43.50 %\n",
      "Error rate of XGB classifier:  0.11134721631959199\n"
     ]
    },
    {
     "data": {
      "image/png": "[encoded data removed]",
      "text/plain": [
       "<Figure size 432x288 with 2 Axes>"
      ]
     },
     "metadata": {
      "needs_background": "light"
     },
     "output_type": "display_data"
    }
   ],
   "source": [
    "# Evaluation des performances a partir des metriques\n",
    "accuracy = accuracy_score(y_val, Y_pred1)\n",
    "precision = precision_score(y_val, Y_pred1)\n",
    "recall = accuracy_score(y_val, Y_pred1)\n",
    "f1 = f1_score(y_val, Y_pred1)\n",
    "\n",
    "print('l accuracy est de: %.2f' % (accuracy*100)+ ' %')\n",
    "print('la precision est de: %.2f' % (precision*100)+ ' %')\n",
    "print('le rappel est de: %.2f' % (recall*100)+ ' %')\n",
    "print('le f1_score est de: %.2f' % (f1*100)+ ' %')\n",
    "print(\"Error rate of XGB classifier: \", 1 - accuracy_score(y_val,Y_pred2))\n",
    "\n",
    "#matrice de confusion\n",
    "conf_matrix = confusion_matrix(y_val,Y_pred1)\n",
    "sns.heatmap(conf_matrix,annot=True,fmt='d',cmap='Blues')\n",
    "plt.title('Confusion Matrix')\n",
    "plt.xlabel('predicted')\n",
    "plt.ylabel('Actual')\n",
    "plt.show()"
   ]
  },
  {
   "cell_type": "code",
   "execution_count": 25,
   "id": "65aa68a5",
   "metadata": {},
   "outputs": [],
   "source": [
    "test.bank_account = best_model1.predict(processed_test)"
   ]
  },
  {
   "cell_type": "code",
   "execution_count": 26,
   "id": "5b1517ba",
   "metadata": {},
   "outputs": [
    {
     "name": "stdout",
     "output_type": "stream",
     "text": [
      "[1 1 0 ... 0 0 0]\n",
      "on a rencense sur un total de 10086 indivudus, 557 susceptibles d avoir un compte\n"
     ]
    }
   ],
   "source": [
    "print(test.bank_account)\n",
    "count = 0\n",
    "for i in range(0,len(test.bank_account)):\n",
    "    if test.bank_account[i]==1:\n",
    "        count +=1\n",
    "print(f\"on a rencense sur un total de {len(test.bank_account)} indivudus, {count} susceptibles d avoir un compte\")\n"
   ]
  },
  {
   "cell_type": "markdown",
   "id": "c33e44ab",
   "metadata": {},
   "source": [
    "### On peut choisir d'utiliser n'importe quel model entre les deux car ils ont les memes performances"
   ]
  },
  {
   "cell_type": "code",
   "execution_count": null,
   "id": "f5d3965e",
   "metadata": {},
   "outputs": [],
   "source": []
  }
 ],
 "metadata": {
  "kernelspec": {
   "display_name": "Python 3 (ipykernel)",
   "language": "python",
   "name": "python3"
  },
  "language_info": {
   "codemirror_mode": {
    "name": "ipython",
    "version": 3
   },
   "file_extension": ".py",
   "mimetype": "text/x-python",
   "name": "python",
   "nbconvert_exporter": "python",
   "pygments_lexer": "ipython3",
   "version": "3.9.12"
  }
 },
 "nbformat": 4,
 "nbformat_minor": 5
}
